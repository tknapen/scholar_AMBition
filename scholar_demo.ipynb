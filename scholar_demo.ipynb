{
 "cells": [
  {
   "cell_type": "code",
   "execution_count": null,
   "metadata": {},
   "outputs": [],
   "source": [
    "import scholarly, re\n",
    "from nltk import word_tokenize\n",
    "from joblib import Parallel, delayed"
   ]
  },
  {
   "cell_type": "code",
   "execution_count": null,
   "metadata": {},
   "outputs": [],
   "source": [
    "nr_papers_per_author = 10\n",
    "\n",
    "authors = [\"Theeuwes, Jan\",\"Roelfsema, Pieter\",\"Ridderinkhof, Richard\",\\\n",
    "           \"Pennartz, Cyriel\",\"Beek, D van de\",\"Brussaard, AB\",\"Willuhn, Ingo\",\\\n",
    "           \"Keysers, Christian\",\"Levelt, Christiaan\",\"Oever, MC van den\",\\\n",
    "           \"Hulst, Hanneke\",\"Heine, Vivi\",\"kock, Christiaan de\",\\\n",
    "           \"Kant, Rik van der\",\"Verwijk, Esmee\",\"Scholte, HS\",\\\n",
    "           \"Opstal, Filip van\",\"Sligte, Ilja\",\"Szymanik, Jakub\",\"Visser, Renee\",\\\n",
    "           \"Vugt, Mark van\",\"Knapen, Tomas\",\"Wingen, Guido\",\\\n",
    "           \"Krugers, Harm\",\"Lansink, Carien\",\"Lorteije, Jeannette\"]\n",
    "authors = [auth.split(', ')[1] + ' ' + auth.split(', ')[0] for auth in authors]\n",
    "print(authors)\n",
    "\n",
    "# # now trying to change the names to work anyway\n",
    "# # deleted because Google Scholar profiles insufficient:\n",
    "# authors.pop(authors.index('Diederik van de Beek'))\n",
    "# print(authors)"
   ]
  },
  {
   "cell_type": "code",
   "execution_count": null,
   "metadata": {},
   "outputs": [],
   "source": [
    "def get_abstracts_and_titles_for_author(author_name, nr_papers_per_author=nr_papers_per_author):\n",
    "    \"\"\"get_abstracts_and_titles_for_author\n",
    "    \n",
    "    Parameters\n",
    "    ----------\n",
    "    author_name : str\n",
    "        name of author in Firstname, Lastname format\n",
    "    nr_papers_per_author : int, optional\n",
    "        number of papers per author to take\n",
    "    \n",
    "    Returns\n",
    "    -------\n",
    "    dict\n",
    "        abstract and title dictionary for this author\n",
    "    \"\"\"\n",
    "    # broadcast author name to know where we are\n",
    "    print(author_name)\n",
    "    \n",
    "    search_query = scholarly.search_author(author_name)\n",
    "    try:\n",
    "        author = next(search_query).fill()\n",
    "    except StopIteration:\n",
    "        print(\"No author with name {author_name}\".format(\n",
    "            author_name=author_name\n",
    "        ))\n",
    "        return {'abstracts':[\"\" for x in range(nr_papers_per_author)], \\\n",
    "                'titles':[\"\" for x in range(nr_papers_per_author)]}\n",
    "    \n",
    "    # adjust the number of papers for junior authors\n",
    "    nppa = nr_papers_per_author\n",
    "    if len(author.publications) < nr_papers_per_author:\n",
    "        nppa = len(author.publications)\n",
    "        print('adjusting nr of publications to {nppa} for {author_name}'.format(\n",
    "            nppa=nppa,\n",
    "            author_name=author_name\n",
    "        ))\n",
    "        \n",
    "    # fill the data for the publications\n",
    "    filled_publications = [pub.fill() for pub in author.publications[:nppa]]\n",
    "    abstracts = [re.sub('<[^<]+?>', '', str(pub.bib['abstract'])) \n",
    "                 for pub in filled_publications if 'abstract' in pub.bib.keys()]\n",
    "    titles = [re.sub('<[^<]+?>', '', str(pub.bib['title']))\n",
    "                 for pub in filled_publications if 'title' in pub.bib.keys()]\n",
    "    \n",
    "    print('    found {nppa} articles for {author_name}'.format(\n",
    "            nppa=nppa,\n",
    "            author_name=author_name\n",
    "        ))\n",
    "    \n",
    "    return {'abstracts':abstracts, 'titles':titles}"
   ]
  },
  {
   "cell_type": "code",
   "execution_count": null,
   "metadata": {},
   "outputs": [],
   "source": [
    "all_abstracts_and_titles = [get_abstracts_and_titles_for_author(auth) for auth in authors[4:]]"
   ]
  },
  {
   "cell_type": "code",
   "execution_count": null,
   "metadata": {},
   "outputs": [],
   "source": [
    "# for parallel processing\n",
    "# all_abstracts_and_titles = Parallel(n_jobs=8)(delayed(get_abstracts_and_titles_for_author)(auth) for auth in authors)"
   ]
  },
  {
   "cell_type": "code",
   "execution_count": null,
   "metadata": {},
   "outputs": [],
   "source": []
  }
 ],
 "metadata": {
  "kernelspec": {
   "display_name": "Python (py36)",
   "language": "python",
   "name": "py36"
  },
  "language_info": {
   "codemirror_mode": {
    "name": "ipython",
    "version": 3
   },
   "file_extension": ".py",
   "mimetype": "text/x-python",
   "name": "python",
   "nbconvert_exporter": "python",
   "pygments_lexer": "ipython3",
   "version": "3.6.2"
  }
 },
 "nbformat": 4,
 "nbformat_minor": 2
}
