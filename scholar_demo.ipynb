{
 "cells": [
  {
   "cell_type": "code",
   "execution_count": 7,
   "metadata": {},
   "outputs": [],
   "source": [
    "import scholarly, re, nltk, wordcloud, pickle\n",
    "from nltk import word_tokenize\n",
    "from joblib import Parallel, delayed"
   ]
  },
  {
   "cell_type": "code",
   "execution_count": 2,
   "metadata": {},
   "outputs": [
    {
     "name": "stdout",
     "output_type": "stream",
     "text": [
      "['Jan Theeuwes', 'Pieter Roelfsema', 'Richard Ridderinkhof', 'Cyriel Pennartz', 'D van de Beek', 'AB Brussaard', 'Ingo Willuhn', 'Christian Keysers', 'Christiaan Levelt', 'MC van den Oever', 'Hanneke Hulst', 'Vivi Heine', 'Christiaan de kock', 'Rik van der Kant', 'Esmee Verwijk', 'HS Scholte', 'Filip van Opstal', 'Ilja Sligte', 'Jakub Szymanik', 'Renee Visser', 'Mark van Vugt', 'Tomas Knapen', 'Guido Wingen', 'Harm Krugers', 'Carien Lansink', 'Jeannette Lorteije']\n"
     ]
    }
   ],
   "source": [
    "nr_papers_per_author = 10\n",
    "\n",
    "authors = [\"Theeuwes, Jan\",\"Roelfsema, Pieter\",\"Ridderinkhof, Richard\",\\\n",
    "           \"Pennartz, Cyriel\",\"Beek, D van de\",\"Brussaard, AB\",\"Willuhn, Ingo\",\\\n",
    "           \"Keysers, Christian\",\"Levelt, Christiaan\",\"Oever, MC van den\",\\\n",
    "           \"Hulst, Hanneke\",\"Heine, Vivi\",\"kock, Christiaan de\",\\\n",
    "           \"Kant, Rik van der\",\"Verwijk, Esmee\",\"Scholte, HS\",\\\n",
    "           \"Opstal, Filip van\",\"Sligte, Ilja\",\"Szymanik, Jakub\",\"Visser, Renee\",\\\n",
    "           \"Vugt, Mark van\",\"Knapen, Tomas\",\"Wingen, Guido\",\\\n",
    "           \"Krugers, Harm\",\"Lansink, Carien\",\"Lorteije, Jeannette\"]\n",
    "authors = [auth.split(', ')[1] + ' ' + auth.split(', ')[0] for auth in authors]\n",
    "print(authors)\n",
    "\n",
    "# # now trying to change the names to work anyway\n",
    "# # deleted because Google Scholar profiles insufficient:\n",
    "# authors.pop(authors.index('Diederik van de Beek'))\n",
    "# print(authors)"
   ]
  },
  {
   "cell_type": "code",
   "execution_count": 3,
   "metadata": {},
   "outputs": [],
   "source": [
    "def get_abstracts_and_titles_for_author(author_name, nr_papers_per_author=nr_papers_per_author):\n",
    "    \"\"\"get_abstracts_and_titles_for_author\n",
    "    \n",
    "    Parameters\n",
    "    ----------\n",
    "    author_name : str\n",
    "        name of author in Firstname, Lastname format\n",
    "    nr_papers_per_author : int, optional\n",
    "        number of papers per author to take\n",
    "    \n",
    "    Returns\n",
    "    -------\n",
    "    dict\n",
    "        abstract and title dictionary for this author\n",
    "    \"\"\"\n",
    "    # broadcast author name to know where we are\n",
    "    print(author_name)\n",
    "    \n",
    "    search_query = scholarly.search_author(author_name)\n",
    "    try:\n",
    "        author = next(search_query).fill()\n",
    "    except StopIteration:\n",
    "        print(\"No author with name {author_name}\".format(\n",
    "            author_name=author_name\n",
    "        ))\n",
    "        return {'abstracts':[\"\" for x in range(nr_papers_per_author)], \\\n",
    "                'titles':[\"\" for x in range(nr_papers_per_author)]}\n",
    "    \n",
    "    # adjust the number of papers for junior authors\n",
    "    nppa = nr_papers_per_author\n",
    "    if len(author.publications) < nr_papers_per_author:\n",
    "        nppa = len(author.publications)\n",
    "        print('adjusting nr of publications to {nppa} for {author_name}'.format(\n",
    "            nppa=nppa,\n",
    "            author_name=author_name\n",
    "        ))\n",
    "        \n",
    "    # fill the data for the publications\n",
    "    filled_publications = [pub.fill() for pub in author.publications[:nppa]]\n",
    "    abstracts = [re.sub('<[^<]+?>', '', str(pub.bib['abstract'])) \n",
    "                 for pub in filled_publications if 'abstract' in pub.bib.keys()]\n",
    "    titles = [re.sub('<[^<]+?>', '', str(pub.bib['title']))\n",
    "                 for pub in filled_publications if 'title' in pub.bib.keys()]\n",
    "    \n",
    "    print('    found {nppa} articles for {author_name}'.format(\n",
    "            nppa=nppa,\n",
    "            author_name=author_name\n",
    "        ))\n",
    "    \n",
    "    return {'abstracts':abstracts, 'titles':titles}"
   ]
  },
  {
   "cell_type": "code",
   "execution_count": 5,
   "metadata": {},
   "outputs": [
    {
     "name": "stdout",
     "output_type": "stream",
     "text": [
      "Jan Theeuwes\n",
      "    found 10 articles for Jan Theeuwes\n",
      "Pieter Roelfsema\n",
      "    found 10 articles for Pieter Roelfsema\n",
      "Richard Ridderinkhof\n",
      "    found 10 articles for Richard Ridderinkhof\n",
      "Cyriel Pennartz\n",
      "    found 10 articles for Cyriel Pennartz\n",
      "D van de Beek\n",
      "    found 10 articles for D van de Beek\n",
      "AB Brussaard\n",
      "    found 10 articles for AB Brussaard\n",
      "Ingo Willuhn\n",
      "    found 10 articles for Ingo Willuhn\n",
      "Christian Keysers\n",
      "    found 10 articles for Christian Keysers\n",
      "Christiaan Levelt\n",
      "    found 10 articles for Christiaan Levelt\n",
      "MC van den Oever\n",
      "No author with name MC van den Oever\n",
      "Hanneke Hulst\n",
      "    found 10 articles for Hanneke Hulst\n",
      "Vivi Heine\n",
      "No author with name Vivi Heine\n",
      "Christiaan de kock\n",
      "    found 10 articles for Christiaan de kock\n",
      "Rik van der Kant\n",
      "    found 10 articles for Rik van der Kant\n",
      "Esmee Verwijk\n",
      "No author with name Esmee Verwijk\n",
      "HS Scholte\n",
      "    found 10 articles for HS Scholte\n",
      "Filip van Opstal\n",
      "    found 10 articles for Filip van Opstal\n",
      "Ilja Sligte\n",
      "    found 10 articles for Ilja Sligte\n",
      "Jakub Szymanik\n",
      "    found 10 articles for Jakub Szymanik\n",
      "Renee Visser\n",
      "    found 10 articles for Renee Visser\n",
      "Mark van Vugt\n",
      "    found 10 articles for Mark van Vugt\n",
      "Tomas Knapen\n",
      "    found 10 articles for Tomas Knapen\n",
      "Guido Wingen\n",
      "    found 10 articles for Guido Wingen\n",
      "Harm Krugers\n",
      "No author with name Harm Krugers\n",
      "Carien Lansink\n",
      "    found 10 articles for Carien Lansink\n",
      "Jeannette Lorteije\n",
      "    found 10 articles for Jeannette Lorteije\n"
     ]
    }
   ],
   "source": [
    "all_abstracts_and_titles = [get_abstracts_and_titles_for_author(auth) for auth in authors]"
   ]
  },
  {
   "cell_type": "code",
   "execution_count": null,
   "metadata": {},
   "outputs": [],
   "source": [
    "# for parallel processing\n",
    "all_abstracts_and_titles = Parallel(n_jobs=18)(delayed(get_abstracts_and_titles_for_author)(auth) for auth in authors)"
   ]
  },
  {
   "cell_type": "code",
   "execution_count": 10,
   "metadata": {},
   "outputs": [],
   "source": [
    "with open('data/all_abstracts_and_titles.pkl', 'wb') as f:\n",
    "    pickle.dump(all_abstracts_and_titles, f)"
   ]
  }
 ],
 "metadata": {
  "kernelspec": {
   "display_name": "Python (py36)",
   "language": "python",
   "name": "py36"
  },
  "language_info": {
   "codemirror_mode": {
    "name": "ipython",
    "version": 3
   },
   "file_extension": ".py",
   "mimetype": "text/x-python",
   "name": "python",
   "nbconvert_exporter": "python",
   "pygments_lexer": "ipython3",
   "version": "3.6.2"
  }
 },
 "nbformat": 4,
 "nbformat_minor": 2
}
